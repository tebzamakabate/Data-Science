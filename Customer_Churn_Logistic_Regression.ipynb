{
  "cells": [
    {
      "cell_type": "markdown",
      "metadata": {
        "id": "view-in-github",
        "colab_type": "text"
      },
      "source": [
        "<a href=\"https://colab.research.google.com/github/tebzamakabate/Data-Science/blob/main/Customer_Churn_Logistic_Regression.ipynb\" target=\"_parent\"><img src=\"https://colab.research.google.com/assets/colab-badge.svg\" alt=\"Open In Colab\"/></a>"
      ]
    },
    {
      "cell_type": "code",
      "execution_count": null,
      "id": "eb752052",
      "metadata": {
        "id": "eb752052"
      },
      "outputs": [],
      "source": [
        "import numpy as np\n",
        "import pandas as pd\n",
        "import seaborn as sns\n",
        "import matplotlib.pyplot as plt"
      ]
    },
    {
      "cell_type": "code",
      "execution_count": null,
      "id": "17a243f8",
      "metadata": {
        "id": "17a243f8",
        "outputId": "15e8f08c-77e7-4997-841a-7cbf5c75a2a7"
      },
      "outputs": [
        {
          "data": {
            "text/html": [
              "<div>\n",
              "<style scoped>\n",
              "    .dataframe tbody tr th:only-of-type {\n",
              "        vertical-align: middle;\n",
              "    }\n",
              "\n",
              "    .dataframe tbody tr th {\n",
              "        vertical-align: top;\n",
              "    }\n",
              "\n",
              "    .dataframe thead th {\n",
              "        text-align: right;\n",
              "    }\n",
              "</style>\n",
              "<table border=\"1\" class=\"dataframe\">\n",
              "  <thead>\n",
              "    <tr style=\"text-align: right;\">\n",
              "      <th></th>\n",
              "      <th>Row</th>\n",
              "      <th>customerID</th>\n",
              "      <th>gender</th>\n",
              "      <th>SeniorCitizen</th>\n",
              "      <th>Partner</th>\n",
              "      <th>Dependents</th>\n",
              "      <th>tenure</th>\n",
              "      <th>PhoneService</th>\n",
              "      <th>MultipleLines</th>\n",
              "      <th>InternetService</th>\n",
              "      <th>...</th>\n",
              "      <th>DeviceProtection</th>\n",
              "      <th>TechSupport</th>\n",
              "      <th>StreamingTV</th>\n",
              "      <th>StreamingMovies</th>\n",
              "      <th>Contract</th>\n",
              "      <th>PaperlessBilling</th>\n",
              "      <th>PaymentMethod</th>\n",
              "      <th>MonthlyCharges</th>\n",
              "      <th>TotalCharges</th>\n",
              "      <th>Churn</th>\n",
              "    </tr>\n",
              "  </thead>\n",
              "  <tbody>\n",
              "    <tr>\n",
              "      <th>0</th>\n",
              "      <td>1</td>\n",
              "      <td>5678-VFNEQ</td>\n",
              "      <td>Female</td>\n",
              "      <td>0</td>\n",
              "      <td>Yes</td>\n",
              "      <td>No</td>\n",
              "      <td>71</td>\n",
              "      <td>Yes</td>\n",
              "      <td>Yes</td>\n",
              "      <td>Fiber optic</td>\n",
              "      <td>...</td>\n",
              "      <td>Yes</td>\n",
              "      <td>No</td>\n",
              "      <td>Yes</td>\n",
              "      <td>Yes</td>\n",
              "      <td>One year</td>\n",
              "      <td>Yes</td>\n",
              "      <td>Credit card (automatic)</td>\n",
              "      <td>104.10</td>\n",
              "      <td>7412.25</td>\n",
              "      <td>No</td>\n",
              "    </tr>\n",
              "    <tr>\n",
              "      <th>1</th>\n",
              "      <td>2</td>\n",
              "      <td>5977-CKHON</td>\n",
              "      <td>Female</td>\n",
              "      <td>0</td>\n",
              "      <td>Yes</td>\n",
              "      <td>Yes</td>\n",
              "      <td>43</td>\n",
              "      <td>Yes</td>\n",
              "      <td>Yes</td>\n",
              "      <td>Fiber optic</td>\n",
              "      <td>...</td>\n",
              "      <td>Yes</td>\n",
              "      <td>No</td>\n",
              "      <td>No</td>\n",
              "      <td>Yes</td>\n",
              "      <td>Month-to-month</td>\n",
              "      <td>Yes</td>\n",
              "      <td>Bank transfer (automatic)</td>\n",
              "      <td>92.55</td>\n",
              "      <td>4039</td>\n",
              "      <td>No</td>\n",
              "    </tr>\n",
              "    <tr>\n",
              "      <th>2</th>\n",
              "      <td>3</td>\n",
              "      <td>2692-BUCFV</td>\n",
              "      <td>Male</td>\n",
              "      <td>1</td>\n",
              "      <td>No</td>\n",
              "      <td>No</td>\n",
              "      <td>29</td>\n",
              "      <td>Yes</td>\n",
              "      <td>No</td>\n",
              "      <td>Fiber optic</td>\n",
              "      <td>...</td>\n",
              "      <td>Yes</td>\n",
              "      <td>No</td>\n",
              "      <td>Yes</td>\n",
              "      <td>Yes</td>\n",
              "      <td>Month-to-month</td>\n",
              "      <td>Yes</td>\n",
              "      <td>Bank transfer (automatic)</td>\n",
              "      <td>101.45</td>\n",
              "      <td>2948.6</td>\n",
              "      <td>No</td>\n",
              "    </tr>\n",
              "    <tr>\n",
              "      <th>3</th>\n",
              "      <td>4</td>\n",
              "      <td>7861-UVUFT</td>\n",
              "      <td>Female</td>\n",
              "      <td>0</td>\n",
              "      <td>Yes</td>\n",
              "      <td>No</td>\n",
              "      <td>15</td>\n",
              "      <td>Yes</td>\n",
              "      <td>No</td>\n",
              "      <td>Fiber optic</td>\n",
              "      <td>...</td>\n",
              "      <td>Yes</td>\n",
              "      <td>No</td>\n",
              "      <td>Yes</td>\n",
              "      <td>No</td>\n",
              "      <td>Month-to-month</td>\n",
              "      <td>Yes</td>\n",
              "      <td>Electronic check</td>\n",
              "      <td>84.30</td>\n",
              "      <td>1308.4</td>\n",
              "      <td>Yes</td>\n",
              "    </tr>\n",
              "    <tr>\n",
              "      <th>4</th>\n",
              "      <td>5</td>\n",
              "      <td>1830-GGFNM</td>\n",
              "      <td>Male</td>\n",
              "      <td>0</td>\n",
              "      <td>Yes</td>\n",
              "      <td>Yes</td>\n",
              "      <td>65</td>\n",
              "      <td>Yes</td>\n",
              "      <td>Yes</td>\n",
              "      <td>Fiber optic</td>\n",
              "      <td>...</td>\n",
              "      <td>Yes</td>\n",
              "      <td>Yes</td>\n",
              "      <td>No</td>\n",
              "      <td>No</td>\n",
              "      <td>Two year</td>\n",
              "      <td>No</td>\n",
              "      <td>Credit card (automatic)</td>\n",
              "      <td>94.55</td>\n",
              "      <td>6078.75</td>\n",
              "      <td>No</td>\n",
              "    </tr>\n",
              "  </tbody>\n",
              "</table>\n",
              "<p>5 rows × 22 columns</p>\n",
              "</div>"
            ],
            "text/plain": [
              "   Row  customerID  gender  SeniorCitizen Partner Dependents  tenure  \\\n",
              "0    1  5678-VFNEQ  Female              0     Yes         No      71   \n",
              "1    2  5977-CKHON  Female              0     Yes        Yes      43   \n",
              "2    3  2692-BUCFV    Male              1      No         No      29   \n",
              "3    4  7861-UVUFT  Female              0     Yes         No      15   \n",
              "4    5  1830-GGFNM    Male              0     Yes        Yes      65   \n",
              "\n",
              "  PhoneService MultipleLines InternetService  ... DeviceProtection  \\\n",
              "0          Yes           Yes     Fiber optic  ...              Yes   \n",
              "1          Yes           Yes     Fiber optic  ...              Yes   \n",
              "2          Yes            No     Fiber optic  ...              Yes   \n",
              "3          Yes            No     Fiber optic  ...              Yes   \n",
              "4          Yes           Yes     Fiber optic  ...              Yes   \n",
              "\n",
              "  TechSupport StreamingTV StreamingMovies        Contract PaperlessBilling  \\\n",
              "0          No         Yes             Yes        One year              Yes   \n",
              "1          No          No             Yes  Month-to-month              Yes   \n",
              "2          No         Yes             Yes  Month-to-month              Yes   \n",
              "3          No         Yes              No  Month-to-month              Yes   \n",
              "4         Yes          No              No        Two year               No   \n",
              "\n",
              "               PaymentMethod MonthlyCharges TotalCharges  Churn  \n",
              "0    Credit card (automatic)         104.10      7412.25     No  \n",
              "1  Bank transfer (automatic)          92.55         4039     No  \n",
              "2  Bank transfer (automatic)         101.45       2948.6     No  \n",
              "3           Electronic check          84.30       1308.4    Yes  \n",
              "4    Credit card (automatic)          94.55      6078.75     No  \n",
              "\n",
              "[5 rows x 22 columns]"
            ]
          },
          "execution_count": 44,
          "metadata": {},
          "output_type": "execute_result"
        }
      ],
      "source": [
        "data = pd.read_excel(\"telco.xls\")\n",
        "data.head()"
      ]
    },
    {
      "cell_type": "code",
      "execution_count": null,
      "id": "49ff7251",
      "metadata": {
        "id": "49ff7251",
        "outputId": "d66fc892-49f5-422f-cb1a-4ca0da7e7f13"
      },
      "outputs": [
        {
          "name": "stdout",
          "output_type": "stream",
          "text": [
            "<class 'pandas.core.frame.DataFrame'>\n",
            "RangeIndex: 5634 entries, 0 to 5633\n",
            "Data columns (total 22 columns):\n",
            " #   Column            Non-Null Count  Dtype  \n",
            "---  ------            --------------  -----  \n",
            " 0   Row               5634 non-null   int64  \n",
            " 1   customerID        5634 non-null   object \n",
            " 2   gender            5634 non-null   object \n",
            " 3   SeniorCitizen     5634 non-null   int64  \n",
            " 4   Partner           5634 non-null   object \n",
            " 5   Dependents        5634 non-null   object \n",
            " 6   tenure            5634 non-null   int64  \n",
            " 7   PhoneService      5634 non-null   object \n",
            " 8   MultipleLines     5634 non-null   object \n",
            " 9   InternetService   5634 non-null   object \n",
            " 10  OnlineSecurity    5634 non-null   object \n",
            " 11  OnlineBackup      5634 non-null   object \n",
            " 12  DeviceProtection  5634 non-null   object \n",
            " 13  TechSupport       5634 non-null   object \n",
            " 14  StreamingTV       5634 non-null   object \n",
            " 15  StreamingMovies   5634 non-null   object \n",
            " 16  Contract          5634 non-null   object \n",
            " 17  PaperlessBilling  5634 non-null   object \n",
            " 18  PaymentMethod     5634 non-null   object \n",
            " 19  MonthlyCharges    5634 non-null   float64\n",
            " 20  TotalCharges      5634 non-null   object \n",
            " 21  Churn             5634 non-null   object \n",
            "dtypes: float64(1), int64(3), object(18)\n",
            "memory usage: 968.5+ KB\n"
          ]
        }
      ],
      "source": [
        "data.info()"
      ]
    },
    {
      "cell_type": "code",
      "execution_count": null,
      "id": "9c7d7d34",
      "metadata": {
        "id": "9c7d7d34"
      },
      "outputs": [],
      "source": [
        "data['TotalCharges'] = pd.to_numeric(data['TotalCharges'], errors='coerce')"
      ]
    },
    {
      "cell_type": "code",
      "execution_count": null,
      "id": "09e8656a",
      "metadata": {
        "id": "09e8656a",
        "outputId": "4e61f808-3d07-4134-b1b5-1c7a780e0639"
      },
      "outputs": [
        {
          "data": {
            "text/plain": [
              "Row                 0\n",
              "customerID          0\n",
              "gender              0\n",
              "SeniorCitizen       0\n",
              "Partner             0\n",
              "Dependents          0\n",
              "tenure              0\n",
              "PhoneService        0\n",
              "MultipleLines       0\n",
              "InternetService     0\n",
              "OnlineSecurity      0\n",
              "OnlineBackup        0\n",
              "DeviceProtection    0\n",
              "TechSupport         0\n",
              "StreamingTV         0\n",
              "StreamingMovies     0\n",
              "Contract            0\n",
              "PaperlessBilling    0\n",
              "PaymentMethod       0\n",
              "MonthlyCharges      0\n",
              "TotalCharges        6\n",
              "Churn               0\n",
              "dtype: int64"
            ]
          },
          "execution_count": 47,
          "metadata": {},
          "output_type": "execute_result"
        }
      ],
      "source": [
        "data.isnull().sum()"
      ]
    },
    {
      "cell_type": "code",
      "execution_count": null,
      "id": "1166fa0d",
      "metadata": {
        "id": "1166fa0d"
      },
      "outputs": [],
      "source": [
        "data['TotalCharges'].fillna(data['TotalCharges'].mean(), inplace=True)"
      ]
    },
    {
      "cell_type": "code",
      "execution_count": null,
      "id": "f6264b7b",
      "metadata": {
        "id": "f6264b7b",
        "outputId": "8f30ce94-1d08-45cf-b2fe-e6adbf8358b1"
      },
      "outputs": [
        {
          "data": {
            "text/plain": [
              "(5634, 22)"
            ]
          },
          "execution_count": 49,
          "metadata": {},
          "output_type": "execute_result"
        }
      ],
      "source": [
        "data.shape"
      ]
    },
    {
      "cell_type": "code",
      "execution_count": null,
      "id": "2f7fcddd",
      "metadata": {
        "id": "2f7fcddd",
        "outputId": "fbaf3704-a8e8-46a6-b3f4-9f153c38258f"
      },
      "outputs": [
        {
          "data": {
            "text/plain": [
              "No     4139\n",
              "Yes    1495\n",
              "Name: Churn, dtype: int64"
            ]
          },
          "execution_count": 50,
          "metadata": {},
          "output_type": "execute_result"
        }
      ],
      "source": [
        "data['Churn'].value_counts()"
      ]
    },
    {
      "cell_type": "code",
      "execution_count": null,
      "id": "516b4dc2",
      "metadata": {
        "id": "516b4dc2",
        "outputId": "f99b5272-98d4-43e9-8e65-9b5efbb60ec7"
      },
      "outputs": [
        {
          "name": "stderr",
          "output_type": "stream",
          "text": [
            "/home/ec2-user/anaconda3/envs/python3/lib/python3.6/site-packages/seaborn/_decorators.py:43: FutureWarning: Pass the following variable as a keyword arg: x. From version 0.12, the only valid positional argument will be `data`, and passing other arguments without an explicit keyword will result in an error or misinterpretation.\n",
            "  FutureWarning\n"
          ]
        },
        {
          "data": {
            "text/plain": [
              "<AxesSubplot:xlabel='Churn', ylabel='count'>"
            ]
          },
          "execution_count": 51,
          "metadata": {},
          "output_type": "execute_result"
        },
        {
          "data": {
            "image/png": "[encoded data removed]",
            "text/plain": [
              "<Figure size 432x288 with 1 Axes>"
            ]
          },
          "metadata": {
            "needs_background": "light"
          },
          "output_type": "display_data"
        }
      ],
      "source": [
        "# Visualize the customer churn.\n",
        "\n",
        "sns.countplot(data['Churn'], palette='Set2')"
      ]
    },
    {
      "cell_type": "code",
      "execution_count": null,
      "id": "d8776da7",
      "metadata": {
        "id": "d8776da7",
        "outputId": "41080a86-6695-44ac-d180-3cadfa722a01"
      },
      "outputs": [
        {
          "data": {
            "text/plain": [
              "<AxesSubplot:xlabel='gender', ylabel='count'>"
            ]
          },
          "execution_count": 52,
          "metadata": {},
          "output_type": "execute_result"
        },
        {
          "data": {
            "image/png": "[encoded data removed]",
            "text/plain": [
              "<Figure size 432x288 with 1 Axes>"
            ]
          },
          "metadata": {
            "needs_background": "light"
          },
          "output_type": "display_data"
        }
      ],
      "source": [
        "# Visualize the customer churn per gender.\n",
        "\n",
        "sns.countplot(x='gender', hue='Churn', palette='Set2', data=data)"
      ]
    },
    {
      "cell_type": "markdown",
      "id": "a7fcae64",
      "metadata": {
        "id": "a7fcae64"
      },
      "source": [
        "#### Gender does not appear to be a significant factor when it comes to customer churn."
      ]
    },
    {
      "cell_type": "code",
      "execution_count": null,
      "id": "55b46e28",
      "metadata": {
        "id": "55b46e28",
        "outputId": "3a7007af-fa3c-4268-8bde-e7b02ccf55c8"
      },
      "outputs": [
        {
          "data": {
            "text/plain": [
              "<AxesSubplot:xlabel='SeniorCitizen', ylabel='count'>"
            ]
          },
          "execution_count": 53,
          "metadata": {},
          "output_type": "execute_result"
        },
        {
          "data": {
            "image/png": "[encoded data removed]",
            "text/plain": [
              "<Figure size 432x288 with 1 Axes>"
            ]
          },
          "metadata": {
            "needs_background": "light"
          },
          "output_type": "display_data"
        }
      ],
      "source": [
        "# Visualize the churn in relation to the age of the customer.\n",
        "\n",
        "sns.countplot(x='SeniorCitizen', hue='Churn', palette='Set2', data=data)"
      ]
    },
    {
      "cell_type": "markdown",
      "id": "5eaddb09",
      "metadata": {
        "id": "5eaddb09"
      },
      "source": [
        "#### Majority of the customers that churn are not senior citizens."
      ]
    },
    {
      "cell_type": "code",
      "execution_count": null,
      "id": "945cf448",
      "metadata": {
        "id": "945cf448",
        "outputId": "5938fb79-ca45-4db5-d5ed-a4f6dacb5a3c"
      },
      "outputs": [
        {
          "data": {
            "text/plain": [
              "<AxesSubplot:xlabel='Dependents', ylabel='count'>"
            ]
          },
          "execution_count": 54,
          "metadata": {},
          "output_type": "execute_result"
        },
        {
          "data": {
            "image/png": "[encoded data removed]",
            "text/plain": [
              "<Figure size 432x288 with 1 Axes>"
            ]
          },
          "metadata": {
            "needs_background": "light"
          },
          "output_type": "display_data"
        }
      ],
      "source": [
        "# Visualize the customer churn in relation to the dependents variable.\n",
        "\n",
        "sns.countplot(x='Dependents', hue='Churn', palette='Set2', data=data)"
      ]
    },
    {
      "cell_type": "markdown",
      "id": "b79d44f2",
      "metadata": {
        "id": "b79d44f2"
      },
      "source": [
        "#### Majority of the customers that left the company did not have dependents."
      ]
    },
    {
      "cell_type": "code",
      "execution_count": null,
      "id": "eb0bf7ce",
      "metadata": {
        "id": "eb0bf7ce",
        "outputId": "bd5ff689-bbe7-4ac7-9f58-4f29cc59bfe9"
      },
      "outputs": [
        {
          "data": {
            "text/plain": [
              "<AxesSubplot:xlabel='Partner', ylabel='count'>"
            ]
          },
          "execution_count": 55,
          "metadata": {},
          "output_type": "execute_result"
        },
        {
          "data": {
            "image/png": "[encoded data removed]",
            "text/plain": [
              "<Figure size 432x288 with 1 Axes>"
            ]
          },
          "metadata": {
            "needs_background": "light"
          },
          "output_type": "display_data"
        }
      ],
      "source": [
        "# Visualize the customer churn in relation to the partner variable.\n",
        "\n",
        "sns.countplot(x='Partner', hue='Churn', palette='Set2', data=data)"
      ]
    },
    {
      "cell_type": "markdown",
      "id": "0d1e3be9",
      "metadata": {
        "id": "0d1e3be9"
      },
      "source": [
        "####  It appears that most of the customers that churn, do not have partners."
      ]
    },
    {
      "cell_type": "code",
      "execution_count": null,
      "id": "b9d9cdd0",
      "metadata": {
        "id": "b9d9cdd0",
        "outputId": "4adfdf2f-3dee-4644-a474-747597350671"
      },
      "outputs": [
        {
          "data": {
            "text/plain": [
              "<AxesSubplot:xlabel='Contract', ylabel='count'>"
            ]
          },
          "execution_count": 56,
          "metadata": {},
          "output_type": "execute_result"
        },
        {
          "data": {
            "image/png": "[encoded data removed]",
            "text/plain": [
              "<Figure size 432x288 with 1 Axes>"
            ]
          },
          "metadata": {
            "needs_background": "light"
          },
          "output_type": "display_data"
        }
      ],
      "source": [
        "# Visualize the customer churn in relation to the contract.\n",
        "\n",
        "sns.countplot(x='Contract', hue='Churn', palette='Set2', data=data)"
      ]
    },
    {
      "cell_type": "markdown",
      "id": "79748ac7",
      "metadata": {
        "id": "79748ac7"
      },
      "source": [
        "#### Month-to-month contracts seem to have the highest amount of churned customers, while 2-year contracts have the least amount of churned customers, followed by 1-year contracts."
      ]
    },
    {
      "cell_type": "code",
      "execution_count": null,
      "id": "6d7d3c1f",
      "metadata": {
        "id": "6d7d3c1f",
        "outputId": "f50b6427-9912-4100-e6ac-535288394516"
      },
      "outputs": [
        {
          "data": {
            "text/plain": [
              "<AxesSubplot:xlabel='PaperlessBilling', ylabel='count'>"
            ]
          },
          "execution_count": 57,
          "metadata": {},
          "output_type": "execute_result"
        },
        {
          "data": {
            "image/png": "[encoded data removed]",
            "text/plain": [
              "<Figure size 432x288 with 1 Axes>"
            ]
          },
          "metadata": {
            "needs_background": "light"
          },
          "output_type": "display_data"
        }
      ],
      "source": [
        "# Visualize the customer churn in relation to the paperless billing service.\n",
        "\n",
        "sns.countplot(x='PaperlessBilling', hue='Churn', palette='Set2', data=data)"
      ]
    },
    {
      "cell_type": "markdown",
      "id": "6bb66c47",
      "metadata": {
        "id": "6bb66c47"
      },
      "source": [
        "#### The majority of the customers that left the company had opted for paperless billing."
      ]
    },
    {
      "cell_type": "code",
      "execution_count": null,
      "id": "cc461987",
      "metadata": {
        "id": "cc461987",
        "outputId": "6b1aab5d-0669-4756-e23a-d30d155d954b"
      },
      "outputs": [
        {
          "data": {
            "text/plain": [
              "[Text(0, 0, 'Credit card (automatic)'),\n",
              " Text(1, 0, 'Bank transfer (automatic)'),\n",
              " Text(2, 0, 'Electronic check'),\n",
              " Text(3, 0, 'Mailed check')]"
            ]
          },
          "execution_count": 58,
          "metadata": {},
          "output_type": "execute_result"
        },
        {
          "data": {
            "image/png": "[encoded data removed]",
            "text/plain": [
              "<Figure size 432x288 with 1 Axes>"
            ]
          },
          "metadata": {
            "needs_background": "light"
          },
          "output_type": "display_data"
        }
      ],
      "source": [
        "# Visualize the customer churn in relation to the payment method.\n",
        "\n",
        "cplt=sns.countplot(x='PaymentMethod', hue='Churn', palette='Set2', data=data)\n",
        "cplt.set_xticklabels(cplt.get_xticklabels(), rotation=45)"
      ]
    },
    {
      "cell_type": "markdown",
      "id": "545caeed",
      "metadata": {
        "id": "545caeed"
      },
      "source": [
        "#### Most of the customers that churned had chosen the electronic check as the payment method. \n",
        "#### There is a significant difference between this payment method and the automatic ones (bank transfer, credit card) as well as the mailed check."
      ]
    },
    {
      "cell_type": "code",
      "execution_count": null,
      "id": "fa5ef46c",
      "metadata": {
        "id": "fa5ef46c",
        "outputId": "b1839bdd-5ef2-44f5-d895-204f21496ab2"
      },
      "outputs": [
        {
          "data": {
            "text/plain": [
              "Text(0.5, 1.0, 'Tenure')"
            ]
          },
          "execution_count": 59,
          "metadata": {},
          "output_type": "execute_result"
        },
        {
          "data": {
            "image/png": "[encoded data removed]",
            "text/plain": [
              "<Figure size 432x288 with 1 Axes>"
            ]
          },
          "metadata": {
            "needs_background": "light"
          },
          "output_type": "display_data"
        }
      ],
      "source": [
        "# Visualize the customer churn in relation to the number of months the customer has stayed with the company.\n",
        "\n",
        "data[data.Churn == 'No']['tenure'].hist(bins=10, color='lightseagreen', alpha=0.8)\n",
        "data[data.Churn == 'Yes']['tenure'].hist(bins=10, color='lightsalmon', alpha=0.8)\n",
        "plt.title('Tenure')"
      ]
    },
    {
      "cell_type": "markdown",
      "id": "bbd67cac",
      "metadata": {
        "id": "bbd67cac"
      },
      "source": [
        "#### Between 0 and 8 months, the possibility of a customers churning is high. However, the longer a customers stays in the company, the less likely he/she is to churn."
      ]
    },
    {
      "cell_type": "code",
      "execution_count": null,
      "id": "e376d105",
      "metadata": {
        "id": "e376d105",
        "outputId": "7aaac9c7-3fc2-41c1-b92a-9e9ba7cbd3fc"
      },
      "outputs": [
        {
          "data": {
            "text/plain": [
              "Text(0.5, 1.0, 'Monthly Charges')"
            ]
          },
          "execution_count": 60,
          "metadata": {},
          "output_type": "execute_result"
        },
        {
          "data": {
            "image/png": "[encoded data removed]",
            "text/plain": [
              "<Figure size 432x288 with 1 Axes>"
            ]
          },
          "metadata": {
            "needs_background": "light"
          },
          "output_type": "display_data"
        }
      ],
      "source": [
        "# Visualize the customer churn in relation to the customer's monthly charges.\n",
        "\n",
        "data[data.Churn == 'No']['MonthlyCharges'].hist(bins=10, color='lightseagreen', alpha=0.8)\n",
        "data[data.Churn == 'Yes']['MonthlyCharges'].hist(bins=10, color='lightsalmon', alpha=0.8)\n",
        "plt.title('Monthly Charges')"
      ]
    },
    {
      "cell_type": "markdown",
      "id": "9786f848",
      "metadata": {
        "id": "9786f848"
      },
      "source": [
        "#### The lower the amount of charges per month, the less likely the customer will churn. \n",
        "#### Especially for the range 18-28 dollars/month, the customer retention is extremely high. \n",
        "#### However, as the monthly charges increase, the probability of a customer churning increases as well."
      ]
    },
    {
      "cell_type": "code",
      "execution_count": null,
      "id": "7ce27ad7",
      "metadata": {
        "id": "7ce27ad7",
        "outputId": "29dc448d-7e46-4f45-ed01-1eda9b01c3f8"
      },
      "outputs": [
        {
          "data": {
            "text/plain": [
              "<AxesSubplot:xlabel='InternetService', ylabel='count'>"
            ]
          },
          "execution_count": 61,
          "metadata": {},
          "output_type": "execute_result"
        },
        {
          "data": {
            "image/png": "[encoded data removed]",
            "text/plain": [
              "<Figure size 432x288 with 1 Axes>"
            ]
          },
          "metadata": {
            "needs_background": "light"
          },
          "output_type": "display_data"
        }
      ],
      "source": [
        "# Visualize the customer churn in relation to the internet service variable.\n",
        "\n",
        "sns.countplot(x='InternetService', hue='Churn', palette='Set2', data=data)"
      ]
    },
    {
      "cell_type": "markdown",
      "id": "fb14d7aa",
      "metadata": {
        "id": "fb14d7aa"
      },
      "source": [
        "####  Majority of the customers that left the company had fiber optics, while the majority of the retained customers had a DSL internet service."
      ]
    },
    {
      "cell_type": "code",
      "execution_count": null,
      "id": "2d908f4a",
      "metadata": {
        "id": "2d908f4a",
        "outputId": "7b1da8e8-e902-4718-a69a-6a68aae3d0a7"
      },
      "outputs": [
        {
          "data": {
            "text/plain": [
              "<AxesSubplot:xlabel='OnlineSecurity', ylabel='count'>"
            ]
          },
          "execution_count": 62,
          "metadata": {},
          "output_type": "execute_result"
        },
        {
          "data": {
            "image/png": "[encoded data removed]",
            "text/plain": [
              "<Figure size 432x288 with 1 Axes>"
            ]
          },
          "metadata": {
            "needs_background": "light"
          },
          "output_type": "display_data"
        }
      ],
      "source": [
        "# Visualize the customer churn in relation to the online security variable.\n",
        "\n",
        "sns.countplot(x='OnlineSecurity', hue='Churn', palette='Set2', data=data)"
      ]
    },
    {
      "cell_type": "markdown",
      "id": "67bcd91d",
      "metadata": {
        "id": "67bcd91d"
      },
      "source": [
        "#### The majority of the customers that churned, did not have an online security."
      ]
    },
    {
      "cell_type": "code",
      "execution_count": null,
      "id": "c52e1fbd",
      "metadata": {
        "id": "c52e1fbd",
        "outputId": "83041ad5-affe-4f31-9000-9fbde4021299"
      },
      "outputs": [
        {
          "data": {
            "text/plain": [
              "<AxesSubplot:xlabel='PhoneService', ylabel='count'>"
            ]
          },
          "execution_count": 63,
          "metadata": {},
          "output_type": "execute_result"
        },
        {
          "data": {
            "image/png": "[encoded data removed]",
            "text/plain": [
              "<Figure size 432x288 with 1 Axes>"
            ]
          },
          "metadata": {
            "needs_background": "light"
          },
          "output_type": "display_data"
        }
      ],
      "source": [
        "# Visualize the customer churn in relation to the phone service variable.\n",
        "\n",
        "sns.countplot(x='PhoneService', hue='Churn', palette='Set2', data=data)"
      ]
    },
    {
      "cell_type": "markdown",
      "id": "7556b25e",
      "metadata": {
        "id": "7556b25e"
      },
      "source": [
        "#### Most of the customers that get retained, already have a phone service with the company"
      ]
    },
    {
      "cell_type": "code",
      "execution_count": null,
      "id": "9422c77d",
      "metadata": {
        "id": "9422c77d",
        "outputId": "deb96c57-c85b-46b5-ec91-6f7fa5d1044d"
      },
      "outputs": [
        {
          "data": {
            "text/plain": [
              "<AxesSubplot:xlabel='MultipleLines', ylabel='count'>"
            ]
          },
          "execution_count": 64,
          "metadata": {},
          "output_type": "execute_result"
        },
        {
          "data": {
            "image/png": "[encoded data removed]",
            "text/plain": [
              "<Figure size 432x288 with 1 Axes>"
            ]
          },
          "metadata": {
            "needs_background": "light"
          },
          "output_type": "display_data"
        }
      ],
      "source": [
        "# Visualize the customer churn in relation to the multiple lines variable.\n",
        "\n",
        "sns.countplot(x='MultipleLines', hue='Churn', palette='Set2', data=data)"
      ]
    },
    {
      "cell_type": "markdown",
      "id": "9636b176",
      "metadata": {
        "id": "9636b176"
      },
      "source": [
        "#### The multiple lines service does not appear to be a significant factor when it comes to customer churn.\n"
      ]
    },
    {
      "cell_type": "code",
      "execution_count": null,
      "id": "bbe32825",
      "metadata": {
        "id": "bbe32825",
        "outputId": "6538b518-2cae-4441-b554-f6e1cfae10f1"
      },
      "outputs": [
        {
          "data": {
            "text/plain": [
              "<AxesSubplot:xlabel='OnlineBackup', ylabel='count'>"
            ]
          },
          "execution_count": 65,
          "metadata": {},
          "output_type": "execute_result"
        },
        {
          "data": {
            "image/png": "[encoded data removed]",
            "text/plain": [
              "<Figure size 432x288 with 1 Axes>"
            ]
          },
          "metadata": {
            "needs_background": "light"
          },
          "output_type": "display_data"
        }
      ],
      "source": [
        "# Visualize the customer churn in relation to the online backup variable.\n",
        "\n",
        "sns.countplot(x='OnlineBackup', hue='Churn', palette='Set2', data=data)"
      ]
    },
    {
      "cell_type": "markdown",
      "id": "3ab2cedb",
      "metadata": {
        "id": "3ab2cedb"
      },
      "source": [
        "#### The majority of the customers that left the company did not have an online backup service."
      ]
    },
    {
      "cell_type": "code",
      "execution_count": null,
      "id": "2baae8fc",
      "metadata": {
        "id": "2baae8fc",
        "outputId": "e7e375bb-ea7c-440d-e23c-8e61c23b112d"
      },
      "outputs": [
        {
          "data": {
            "text/plain": [
              "<AxesSubplot:xlabel='DeviceProtection', ylabel='count'>"
            ]
          },
          "execution_count": 66,
          "metadata": {},
          "output_type": "execute_result"
        },
        {
          "data": {
            "image/png": "[encoded data removed]",
            "text/plain": [
              "<Figure size 432x288 with 1 Axes>"
            ]
          },
          "metadata": {
            "needs_background": "light"
          },
          "output_type": "display_data"
        }
      ],
      "source": [
        "# Visualize the customer churn in relation to the device protection variable.\n",
        "\n",
        "sns.countplot(x='DeviceProtection', hue='Churn', palette='Set2', data=data)"
      ]
    },
    {
      "cell_type": "markdown",
      "id": "54982304",
      "metadata": {
        "id": "54982304"
      },
      "source": [
        "#### Most of the churned customers did not have a device protection service."
      ]
    },
    {
      "cell_type": "code",
      "execution_count": null,
      "id": "2e46ec3e",
      "metadata": {
        "id": "2e46ec3e",
        "outputId": "e0506884-068b-4c93-82c6-40c022056949"
      },
      "outputs": [
        {
          "data": {
            "text/plain": [
              "<AxesSubplot:xlabel='TechSupport', ylabel='count'>"
            ]
          },
          "execution_count": 67,
          "metadata": {},
          "output_type": "execute_result"
        },
        {
          "data": {
            "image/png": "[encoded data removed]",
            "text/plain": [
              "<Figure size 432x288 with 1 Axes>"
            ]
          },
          "metadata": {
            "needs_background": "light"
          },
          "output_type": "display_data"
        }
      ],
      "source": [
        "# Visualize the customer churn in relation to the tech support service.\n",
        "\n",
        "sns.countplot(x='TechSupport', hue='Churn', palette='Set2', data=data)"
      ]
    },
    {
      "cell_type": "markdown",
      "id": "042713a2",
      "metadata": {
        "id": "042713a2"
      },
      "source": [
        "#### Majority of the customers that churned did not have a tech support service."
      ]
    },
    {
      "cell_type": "code",
      "execution_count": null,
      "id": "3a3a606a",
      "metadata": {
        "id": "3a3a606a",
        "outputId": "331ccc15-dcad-4dff-f466-0be0e2a1d816"
      },
      "outputs": [
        {
          "data": {
            "text/plain": [
              "<AxesSubplot:xlabel='StreamingTV', ylabel='count'>"
            ]
          },
          "execution_count": 68,
          "metadata": {},
          "output_type": "execute_result"
        },
        {
          "data": {
            "image/png": "[encoded data removed]",
            "text/plain": [
              "<Figure size 432x288 with 1 Axes>"
            ]
          },
          "metadata": {
            "needs_background": "light"
          },
          "output_type": "display_data"
        }
      ],
      "source": [
        "# Visualize the customer churn in relation to the streamingTV service.\n",
        "\n",
        "sns.countplot(x='StreamingTV', hue='Churn', palette='Set2', data=data)"
      ]
    },
    {
      "cell_type": "markdown",
      "id": "358c3576",
      "metadata": {
        "id": "358c3576"
      },
      "source": [
        "#### The streaming tv service does not appear to be significant when it comes to customer churn."
      ]
    },
    {
      "cell_type": "code",
      "execution_count": null,
      "id": "07c1ddb6",
      "metadata": {
        "id": "07c1ddb6",
        "outputId": "a2d8afe4-1b14-4a9c-d2e1-0f2004ba2af4"
      },
      "outputs": [
        {
          "data": {
            "text/plain": [
              "<AxesSubplot:xlabel='StreamingMovies', ylabel='count'>"
            ]
          },
          "execution_count": 69,
          "metadata": {},
          "output_type": "execute_result"
        },
        {
          "data": {
            "image/png": "[encoded data removed]",
            "text/plain": [
              "<Figure size 432x288 with 1 Axes>"
            ]
          },
          "metadata": {
            "needs_background": "light"
          },
          "output_type": "display_data"
        }
      ],
      "source": [
        "# Visualize the customer churn in relation to the streamingMovies service.\n",
        "\n",
        "sns.countplot(x='StreamingMovies', hue='Churn', palette='Set2', data=data)"
      ]
    },
    {
      "cell_type": "markdown",
      "id": "affcd516",
      "metadata": {
        "id": "affcd516"
      },
      "source": [
        "#### The streaming movies service does not appear to be a significant factor for customer churn."
      ]
    },
    {
      "cell_type": "code",
      "execution_count": null,
      "id": "f83d44b4",
      "metadata": {
        "id": "f83d44b4"
      },
      "outputs": [],
      "source": []
    },
    {
      "cell_type": "code",
      "execution_count": null,
      "id": "c09af250",
      "metadata": {
        "id": "c09af250"
      },
      "outputs": [],
      "source": [
        "# Drop the column customerID, since it is not necessary for our analysis.\n",
        "\n",
        "data_df = data.drop(['Row','customerID'], axis=1)"
      ]
    },
    {
      "cell_type": "code",
      "execution_count": null,
      "id": "4caa5d69",
      "metadata": {
        "id": "4caa5d69",
        "outputId": "ea52df86-62a0-4e9f-a039-f1b6ca70dd11"
      },
      "outputs": [
        {
          "name": "stdout",
          "output_type": "stream",
          "text": [
            "<class 'pandas.core.frame.DataFrame'>\n",
            "RangeIndex: 5634 entries, 0 to 5633\n",
            "Data columns (total 20 columns):\n",
            " #   Column            Non-Null Count  Dtype  \n",
            "---  ------            --------------  -----  \n",
            " 0   gender            5634 non-null   object \n",
            " 1   SeniorCitizen     5634 non-null   int64  \n",
            " 2   Partner           5634 non-null   object \n",
            " 3   Dependents        5634 non-null   object \n",
            " 4   tenure            5634 non-null   int64  \n",
            " 5   PhoneService      5634 non-null   object \n",
            " 6   MultipleLines     5634 non-null   object \n",
            " 7   InternetService   5634 non-null   object \n",
            " 8   OnlineSecurity    5634 non-null   object \n",
            " 9   OnlineBackup      5634 non-null   object \n",
            " 10  DeviceProtection  5634 non-null   object \n",
            " 11  TechSupport       5634 non-null   object \n",
            " 12  StreamingTV       5634 non-null   object \n",
            " 13  StreamingMovies   5634 non-null   object \n",
            " 14  Contract          5634 non-null   object \n",
            " 15  PaperlessBilling  5634 non-null   object \n",
            " 16  PaymentMethod     5634 non-null   object \n",
            " 17  MonthlyCharges    5634 non-null   float64\n",
            " 18  TotalCharges      5634 non-null   float64\n",
            " 19  Churn             5634 non-null   object \n",
            "dtypes: float64(2), int64(2), object(16)\n",
            "memory usage: 880.4+ KB\n"
          ]
        }
      ],
      "source": [
        "data_df.info()"
      ]
    },
    {
      "cell_type": "code",
      "execution_count": null,
      "id": "45de4d37",
      "metadata": {
        "id": "45de4d37"
      },
      "outputs": [],
      "source": [
        "data_df.Churn.replace({\"Yes\":1, \"No\":0}, inplace = True)"
      ]
    },
    {
      "cell_type": "code",
      "execution_count": null,
      "id": "a5194a32",
      "metadata": {
        "id": "a5194a32"
      },
      "outputs": [],
      "source": [
        "dummy_df = pd.get_dummies(data_df)"
      ]
    },
    {
      "cell_type": "code",
      "execution_count": null,
      "id": "94aa7028",
      "metadata": {
        "id": "94aa7028",
        "outputId": "4cf12620-6cce-4aa6-d2e7-376a095f2847"
      },
      "outputs": [
        {
          "name": "stdout",
          "output_type": "stream",
          "text": [
            "<class 'pandas.core.frame.DataFrame'>\n",
            "RangeIndex: 5634 entries, 0 to 5633\n",
            "Data columns (total 46 columns):\n",
            " #   Column                                   Non-Null Count  Dtype  \n",
            "---  ------                                   --------------  -----  \n",
            " 0   SeniorCitizen                            5634 non-null   int64  \n",
            " 1   tenure                                   5634 non-null   int64  \n",
            " 2   MonthlyCharges                           5634 non-null   float64\n",
            " 3   TotalCharges                             5634 non-null   float64\n",
            " 4   Churn                                    5634 non-null   int64  \n",
            " 5   gender_Female                            5634 non-null   uint8  \n",
            " 6   gender_Male                              5634 non-null   uint8  \n",
            " 7   Partner_No                               5634 non-null   uint8  \n",
            " 8   Partner_Yes                              5634 non-null   uint8  \n",
            " 9   Dependents_No                            5634 non-null   uint8  \n",
            " 10  Dependents_Yes                           5634 non-null   uint8  \n",
            " 11  PhoneService_No                          5634 non-null   uint8  \n",
            " 12  PhoneService_Yes                         5634 non-null   uint8  \n",
            " 13  MultipleLines_No                         5634 non-null   uint8  \n",
            " 14  MultipleLines_No phone service           5634 non-null   uint8  \n",
            " 15  MultipleLines_Yes                        5634 non-null   uint8  \n",
            " 16  InternetService_DSL                      5634 non-null   uint8  \n",
            " 17  InternetService_Fiber optic              5634 non-null   uint8  \n",
            " 18  InternetService_No                       5634 non-null   uint8  \n",
            " 19  OnlineSecurity_No                        5634 non-null   uint8  \n",
            " 20  OnlineSecurity_No internet service       5634 non-null   uint8  \n",
            " 21  OnlineSecurity_Yes                       5634 non-null   uint8  \n",
            " 22  OnlineBackup_No                          5634 non-null   uint8  \n",
            " 23  OnlineBackup_No internet service         5634 non-null   uint8  \n",
            " 24  OnlineBackup_Yes                         5634 non-null   uint8  \n",
            " 25  DeviceProtection_No                      5634 non-null   uint8  \n",
            " 26  DeviceProtection_No internet service     5634 non-null   uint8  \n",
            " 27  DeviceProtection_Yes                     5634 non-null   uint8  \n",
            " 28  TechSupport_No                           5634 non-null   uint8  \n",
            " 29  TechSupport_No internet service          5634 non-null   uint8  \n",
            " 30  TechSupport_Yes                          5634 non-null   uint8  \n",
            " 31  StreamingTV_No                           5634 non-null   uint8  \n",
            " 32  StreamingTV_No internet service          5634 non-null   uint8  \n",
            " 33  StreamingTV_Yes                          5634 non-null   uint8  \n",
            " 34  StreamingMovies_No                       5634 non-null   uint8  \n",
            " 35  StreamingMovies_No internet service      5634 non-null   uint8  \n",
            " 36  StreamingMovies_Yes                      5634 non-null   uint8  \n",
            " 37  Contract_Month-to-month                  5634 non-null   uint8  \n",
            " 38  Contract_One year                        5634 non-null   uint8  \n",
            " 39  Contract_Two year                        5634 non-null   uint8  \n",
            " 40  PaperlessBilling_No                      5634 non-null   uint8  \n",
            " 41  PaperlessBilling_Yes                     5634 non-null   uint8  \n",
            " 42  PaymentMethod_Bank transfer (automatic)  5634 non-null   uint8  \n",
            " 43  PaymentMethod_Credit card (automatic)    5634 non-null   uint8  \n",
            " 44  PaymentMethod_Electronic check           5634 non-null   uint8  \n",
            " 45  PaymentMethod_Mailed check               5634 non-null   uint8  \n",
            "dtypes: float64(2), int64(3), uint8(41)\n",
            "memory usage: 445.8 KB\n"
          ]
        }
      ],
      "source": [
        "dummy_df.info()"
      ]
    },
    {
      "cell_type": "code",
      "execution_count": null,
      "id": "226f6f2e",
      "metadata": {
        "id": "226f6f2e"
      },
      "outputs": [],
      "source": [
        "# Establish target feature, churn\n",
        "y = dummy_df.Churn.values\n",
        "\n",
        "# Drop the target feature from remaining features\n",
        "X = dummy_df.drop('Churn', axis = 1)\n",
        "\n",
        "# Save dataframe column titles to list, we will need them in next step\n",
        "cols = X.columns"
      ]
    },
    {
      "cell_type": "code",
      "execution_count": null,
      "id": "5c7e70b0",
      "metadata": {
        "id": "5c7e70b0"
      },
      "outputs": [],
      "source": [
        "# Import the necessary sklearn method\n",
        "from sklearn.preprocessing import MinMaxScaler\n",
        "\n",
        "# Instantiate a Min-Max scaling object\n",
        "mm = MinMaxScaler()\n",
        "\n",
        "# Fit and transform our feature data into a pandas dataframe\n",
        "X = pd.DataFrame(mm.fit_transform(X))"
      ]
    },
    {
      "cell_type": "code",
      "execution_count": null,
      "id": "4de50e6e",
      "metadata": {
        "id": "4de50e6e"
      },
      "outputs": [],
      "source": []
    },
    {
      "cell_type": "code",
      "execution_count": null,
      "id": "0a2a27d4",
      "metadata": {
        "id": "0a2a27d4"
      },
      "outputs": [],
      "source": [
        "# Split to separate our data into a training set and testing set.\n",
        "\n",
        "from sklearn.model_selection import train_test_split\n",
        "X_train, X_test, y_train, y_test = train_test_split(X, y, test_size = .25, random_state = 33)"
      ]
    },
    {
      "cell_type": "code",
      "execution_count": null,
      "id": "87a0764e",
      "metadata": {
        "id": "87a0764e"
      },
      "outputs": [],
      "source": [
        "from sklearn.linear_model import LogisticRegression\n",
        "\n",
        "# Instantiate a logistic regression model without an intercept, arbitrarily large C value will offset the lack of intercept\n",
        "logreg = LogisticRegression(fit_intercept = False, C = 1e12, solver = 'liblinear')"
      ]
    },
    {
      "cell_type": "code",
      "execution_count": null,
      "id": "3ffe477d",
      "metadata": {
        "id": "3ffe477d",
        "outputId": "7e14a916-c058-488f-a60e-51f088a57d3a"
      },
      "outputs": [
        {
          "data": {
            "text/plain": [
              "LogisticRegression(C=1000000000000.0, fit_intercept=False, solver='liblinear')"
            ]
          },
          "execution_count": 79,
          "metadata": {},
          "output_type": "execute_result"
        }
      ],
      "source": [
        "# Fit the model to our X and y training sets\n",
        "\n",
        "logreg.fit(X_train, y_train)"
      ]
    },
    {
      "cell_type": "code",
      "execution_count": null,
      "id": "d9750c7a",
      "metadata": {
        "id": "d9750c7a"
      },
      "outputs": [],
      "source": [
        "y_hat_train = logreg.predict(X_train)\n",
        "\n",
        "# Perform prediction using the test dataset\n",
        "y_hat_test = logreg.predict(X_test)"
      ]
    },
    {
      "cell_type": "code",
      "execution_count": null,
      "id": "ed6fd450",
      "metadata": {
        "id": "ed6fd450"
      },
      "outputs": [],
      "source": []
    },
    {
      "cell_type": "code",
      "execution_count": null,
      "id": "4ba25c1a",
      "metadata": {
        "id": "4ba25c1a",
        "outputId": "595f1d4c-3673-4a97-f186-fbe39fb7d82d"
      },
      "outputs": [
        {
          "name": "stdout",
          "output_type": "stream",
          "text": [
            "Training set score: 0.8099\n",
            "Test set score: 0.7991\n"
          ]
        }
      ],
      "source": [
        "# Print the scores of the training and testing set to check for overfitting.\n",
        "\n",
        "print('Training set score: {:.4f}'.format(logreg.score(X_train, y_train)))\n",
        "print('Test set score: {:.4f}'.format(logreg.score(X_test, y_test)))"
      ]
    },
    {
      "cell_type": "markdown",
      "id": "54485cc2",
      "metadata": {
        "id": "54485cc2"
      },
      "source": [
        "#### The training set accuracy score is 0.8099, while the test set accuracy is 0.7991."
      ]
    },
    {
      "cell_type": "code",
      "execution_count": null,
      "id": "7fc0f8ee",
      "metadata": {
        "id": "7fc0f8ee"
      },
      "outputs": [],
      "source": []
    },
    {
      "cell_type": "code",
      "execution_count": null,
      "id": "fa957a00",
      "metadata": {
        "id": "fa957a00"
      },
      "outputs": [],
      "source": [
        "from sklearn.metrics import confusion_matrix\n",
        "\n",
        "# Pass actual test and predicted target test outcomes to function\n",
        "cnf_matrix = confusion_matrix(y_test, y_hat_test)"
      ]
    },
    {
      "cell_type": "code",
      "execution_count": null,
      "id": "a6992d25",
      "metadata": {
        "id": "a6992d25",
        "outputId": "ada16a0f-7f3e-4c8e-8a4e-cb0b69c6b235"
      },
      "outputs": [
        {
          "name": "stdout",
          "output_type": "stream",
          "text": [
            "Confusion matrix\n",
            "\n",
            " [[926 113]\n",
            " [170 200]]\n",
            "\n",
            "The confusion matrix shows 1126 correct predictions and 283 incorrect predictions.\n",
            "\n",
            "More Specifically: \n",
            "\n",
            "-True Positives (Actual Positive:1 and Predict Positive:1) =  926\n",
            "\n",
            "-True Negatives (Actual Negative:0 and Predict Negative:0) =  200\n",
            "\n",
            "-False Positives (Actual Negative:0 but Predict Positive:1) =  113 (Type I error)\n",
            "\n",
            "-False Negatives (Actual Positive:1 but Predict Negative:0) =  170 (Type II error)\n"
          ]
        }
      ],
      "source": [
        "# Confusion matrix.\n",
        "\n",
        "cm = confusion_matrix(y_test, y_hat_test)\n",
        "\n",
        "print('Confusion matrix\\n\\n', cm)\n",
        "\n",
        "print('\\nThe confusion matrix shows', cm[0,0] + cm[1,1],'correct predictions and', cm[1,0] + cm[0,1], 'incorrect predictions.')\n",
        "\n",
        "print('\\nMore Specifically: ')\n",
        "\n",
        "print('\\n-True Positives (Actual Positive:1 and Predict Positive:1) = ', cm[0,0])\n",
        "\n",
        "print('\\n-True Negatives (Actual Negative:0 and Predict Negative:0) = ', cm[1,1])\n",
        "\n",
        "print('\\n-False Positives (Actual Negative:0 but Predict Positive:1) = ', cm[0,1], '(Type I error)')\n",
        "\n",
        "print('\\n-False Negatives (Actual Positive:1 but Predict Negative:0) = ', cm[1,0], '(Type II error)')"
      ]
    },
    {
      "cell_type": "code",
      "execution_count": null,
      "id": "c7228c9d",
      "metadata": {
        "id": "c7228c9d",
        "outputId": "bb7dd732-89c2-41e8-e915-f2055151619a"
      },
      "outputs": [
        {
          "name": "stdout",
          "output_type": "stream",
          "text": [
            "              precision    recall  f1-score   support\n",
            "\n",
            "           0       0.84      0.89      0.87      1039\n",
            "           1       0.64      0.54      0.59       370\n",
            "\n",
            "    accuracy                           0.80      1409\n",
            "   macro avg       0.74      0.72      0.73      1409\n",
            "weighted avg       0.79      0.80      0.79      1409\n",
            "\n"
          ]
        }
      ],
      "source": [
        "# We check its precision, recall, f1-score and accuracy.\n",
        "\n",
        "from sklearn.metrics import classification_report\n",
        "print(classification_report(y_test, y_hat_test))"
      ]
    },
    {
      "cell_type": "markdown",
      "id": "53128171",
      "metadata": {
        "id": "53128171"
      },
      "source": [
        "### Retained customers:\n",
        "#### The precision of the model is 84%, meaning that 84% of the results are relevant.\n",
        "#### The recall of the model is 89%, meaning that 89% of the total relevant results were correctly classified by the model.\n",
        "#### The f1-score measuring the model's accuracy on the dataset is 87%, which is an ok result.\n",
        "\n",
        "### Churned customers:\n",
        "#### The precision of the model is 64%, meaning that 64% of the results are relevant.\n",
        "#### The recall of the model is 54%, meaning that 54% of the total relevant results were correctly classified by the model.\n",
        "#### The f1-score measuring the model's accuracy on the dataset is 59%, which is an ok result."
      ]
    },
    {
      "cell_type": "markdown",
      "id": "c483bbe6",
      "metadata": {
        "id": "c483bbe6"
      },
      "source": [
        "### The accuracy of the model is 80%, which indicates great model performance."
      ]
    },
    {
      "cell_type": "code",
      "execution_count": null,
      "id": "1d8eb37e",
      "metadata": {
        "id": "1d8eb37e"
      },
      "outputs": [],
      "source": []
    },
    {
      "cell_type": "markdown",
      "id": "5b67badf",
      "metadata": {
        "id": "5b67badf"
      },
      "source": [
        "## Recommendations for customer retention"
      ]
    },
    {
      "cell_type": "markdown",
      "id": "df795dfc",
      "metadata": {
        "id": "df795dfc"
      },
      "source": [
        "- Consider lowering the monthly charges to increase customer retention.\n",
        "- Focus our efforts on the aquisition period of new customers (0-8 months), since the probabilities of customer churning are higher during that period.\n",
        "- Investigate possible service quality issues with its fiber optic service and -if that's the case- we work on resolving them.\n",
        "- Consider proposing contracts with a starting duration of 1-2 year(s), since the churning probabilities are significantly lower in contrast to the month-to-month contracts."
      ]
    },
    {
      "cell_type": "code",
      "execution_count": null,
      "id": "423557ff",
      "metadata": {
        "id": "423557ff"
      },
      "outputs": [],
      "source": []
    }
  ],
  "metadata": {
    "kernelspec": {
      "display_name": "conda_python3",
      "language": "python",
      "name": "conda_python3"
    },
    "language_info": {
      "codemirror_mode": {
        "name": "ipython",
        "version": 3
      },
      "file_extension": ".py",
      "mimetype": "text/x-python",
      "name": "python",
      "nbconvert_exporter": "python",
      "pygments_lexer": "ipython3",
      "version": "3.6.13"
    },
    "colab": {
      "provenance": [],
      "include_colab_link": true
    }
  },
  "nbformat": 4,
  "nbformat_minor": 5
}